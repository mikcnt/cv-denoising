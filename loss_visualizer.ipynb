{
 "cells": [
  {
   "cell_type": "code",
   "execution_count": 14,
   "metadata": {
    "execution": {
     "iopub.execute_input": "2021-01-24T19:37:10.328428Z",
     "iopub.status.busy": "2021-01-24T19:37:10.328184Z",
     "iopub.status.idle": "2021-01-24T19:37:10.369088Z",
     "shell.execute_reply": "2021-01-24T19:37:10.368397Z",
     "shell.execute_reply.started": "2021-01-24T19:37:10.328396Z"
    }
   },
   "outputs": [],
   "source": [
    "import numpy as np\n",
    "import torch\n",
    "from torch import optim\n",
    "import os\n",
    "import matplotlib.pyplot as plt\n",
    "from utils import load_checkpoint\n",
    "\n",
    "from models import AutoEncoder\n",
    "\n",
    "MODEL_CHECKPOINT = '074.pth'\n",
    "model = AutoEncoder()\n",
    "optimizer = optim.Adam(model.parameters(), lr=0.0003)\n",
    "        \n",
    "model, optimizer, epoch, train_loss, test_loss = load_checkpoint(model, optimizer, MODEL_CHECKPOINT)"
   ]
  },
  {
   "cell_type": "code",
   "execution_count": 15,
   "metadata": {
    "execution": {
     "iopub.execute_input": "2021-01-24T19:37:13.180716Z",
     "iopub.status.busy": "2021-01-24T19:37:13.179998Z",
     "iopub.status.idle": "2021-01-24T19:37:13.186371Z",
     "shell.execute_reply": "2021-01-24T19:37:13.185747Z",
     "shell.execute_reply.started": "2021-01-24T19:37:13.180631Z"
    }
   },
   "outputs": [],
   "source": [
    "train_loss = np.array(list(train_loss.values()))\n",
    "test_loss = np.array(list(test_loss.values()))"
   ]
  },
  {
   "cell_type": "code",
   "execution_count": 16,
   "metadata": {
    "execution": {
     "iopub.execute_input": "2021-01-24T19:37:13.700418Z",
     "iopub.status.busy": "2021-01-24T19:37:13.700066Z",
     "iopub.status.idle": "2021-01-24T19:37:13.705017Z",
     "shell.execute_reply": "2021-01-24T19:37:13.704131Z",
     "shell.execute_reply.started": "2021-01-24T19:37:13.700374Z"
    }
   },
   "outputs": [],
   "source": [
    "train_normalized = train_loss / train_loss.max()\n",
    "test_normalized = test_loss / test_loss.max()"
   ]
  },
  {
   "cell_type": "code",
   "execution_count": 17,
   "metadata": {
    "execution": {
     "iopub.execute_input": "2021-01-24T19:37:14.075601Z",
     "iopub.status.busy": "2021-01-24T19:37:14.075231Z",
     "iopub.status.idle": "2021-01-24T19:37:14.188153Z",
     "shell.execute_reply": "2021-01-24T19:37:14.187667Z",
     "shell.execute_reply.started": "2021-01-24T19:37:14.075555Z"
    }
   },
   "outputs": [
    {
     "data": {
      "text/plain": [
       "[<matplotlib.lines.Line2D at 0x7f3940f34050>]"
      ]
     },
     "execution_count": 17,
     "metadata": {},
     "output_type": "execute_result"
    },
    {
     "data": {
      "image/png": "[encoded data removed]",
      "text/plain": [
       "<Figure size 432x288 with 1 Axes>"
      ]
     },
     "metadata": {
      "needs_background": "light"
     },
     "output_type": "display_data"
    }
   ],
   "source": [
    "plt.grid()\n",
    "plt.plot(train_normalized)\n",
    "plt.plot(test_normalized)"
   ]
  },
  {
   "cell_type": "code",
   "execution_count": 18,
   "metadata": {
    "execution": {
     "iopub.execute_input": "2021-01-24T19:37:23.196635Z",
     "iopub.status.busy": "2021-01-24T19:37:23.196474Z",
     "iopub.status.idle": "2021-01-24T19:37:23.200444Z",
     "shell.execute_reply": "2021-01-24T19:37:23.199934Z",
     "shell.execute_reply.started": "2021-01-24T19:37:23.196616Z"
    }
   },
   "outputs": [
    {
     "data": {
      "text/plain": [
       "array([1.        , 0.76588549, 0.58675296, 0.44347695, 0.32993223,\n",
       "       0.24216931, 0.17458333, 0.12429389, 0.08564725, 0.05842221,\n",
       "       0.03879548, 0.02576275, 0.01688613, 0.0112528 , 0.00815705,\n",
       "       0.0064032 , 0.00549401, 0.00487942, 0.00519336, 0.00470435,\n",
       "       0.00471151, 0.00468569, 0.00500373, 0.00463414, 0.00450234,\n",
       "       0.00461329, 0.00469832, 0.00468143, 0.00461917, 0.00456366,\n",
       "       0.00469495, 0.00469185, 0.0047783 , 0.00448508, 0.00451764,\n",
       "       0.00449742, 0.00467946, 0.00452326, 0.00452148, 0.00428717,\n",
       "       0.00427973, 0.0046436 , 0.00453031, 0.00443401, 0.00446786,\n",
       "       0.0043804 , 0.00440495, 0.0045023 , 0.00452036, 0.00435074,\n",
       "       0.00452042, 0.00437264, 0.00441257, 0.00436583, 0.00433448,\n",
       "       0.00446777, 0.00437516, 0.00441512, 0.00410395, 0.00443418,\n",
       "       0.00437753, 0.00430287, 0.00424853, 0.00414391, 0.00426757,\n",
       "       0.00428741, 0.00415196, 0.00425888, 0.00430216, 0.00428298,\n",
       "       0.00423023, 0.00412115, 0.00443315, 0.00412871])"
      ]
     },
     "execution_count": 18,
     "metadata": {},
     "output_type": "execute_result"
    }
   ],
   "source": [
    "train_normalized"
   ]
  },
  {
   "cell_type": "code",
   "execution_count": 20,
   "metadata": {
    "execution": {
     "iopub.execute_input": "2021-01-24T19:37:41.266221Z",
     "iopub.status.busy": "2021-01-24T19:37:41.266034Z",
     "iopub.status.idle": "2021-01-24T19:37:41.270588Z",
     "shell.execute_reply": "2021-01-24T19:37:41.269936Z",
     "shell.execute_reply.started": "2021-01-24T19:37:41.266174Z"
    }
   },
   "outputs": [
    {
     "data": {
      "text/plain": [
       "array([ 0.00000000e+00, -4.40212064e-03,  9.56531743e-05,  2.97244954e-03,\n",
       "        3.85374187e-03,  4.70019805e-03,  4.72059710e-03,  4.83880098e-03,\n",
       "        3.35293429e-03,  2.82223022e-03,  1.86388508e-03,  1.47380991e-03,\n",
       "        6.93465686e-04,  5.45669071e-05, -2.25008196e-04, -4.38444130e-04,\n",
       "       -6.41307646e-04, -9.65313601e-04, -4.84828082e-04, -9.43408719e-04,\n",
       "       -8.88647400e-04, -8.31509268e-04, -5.14379233e-04, -8.30935028e-04,\n",
       "       -9.53234048e-04, -8.67107313e-04, -6.72726910e-04, -6.92321563e-04,\n",
       "       -7.33447790e-04, -8.51747042e-04, -6.61732883e-04, -6.12017190e-04,\n",
       "       -5.29373857e-04, -7.62352759e-04, -7.58949424e-04, -7.30663174e-04,\n",
       "       -5.57219825e-04, -7.95470492e-04, -6.88715658e-04, -9.29085081e-04,\n",
       "       -9.71686119e-04, -5.26690629e-04, -6.33113344e-04, -6.95975655e-04,\n",
       "       -7.43042713e-04, -7.29283128e-04, -7.36745921e-04, -5.97568809e-04,\n",
       "       -5.95124304e-04, -6.85490252e-04, -5.68165226e-04, -7.38930604e-04,\n",
       "       -6.71506384e-04, -7.17253582e-04, -7.15737118e-04, -5.68064432e-04,\n",
       "       -6.35909496e-04, -6.48921055e-04, -9.13993626e-04, -6.26459416e-04,\n",
       "       -6.29235990e-04, -6.93670014e-04, -7.95254855e-04, -8.62817078e-04,\n",
       "       -7.17786639e-04, -6.86970487e-04, -8.21201744e-04, -6.84141627e-04,\n",
       "       -6.50502187e-04, -7.30282479e-04, -7.11905691e-04, -8.30686873e-04,\n",
       "       -5.24464696e-04, -8.20316652e-04])"
      ]
     },
     "execution_count": 20,
     "metadata": {},
     "output_type": "execute_result"
    }
   ],
   "source": [
    "train_normalized - test_normalized"
   ]
  }
 ],
 "metadata": {
  "kernelspec": {
   "display_name": "Python 3",
   "language": "python",
   "name": "python3"
  },
  "language_info": {
   "codemirror_mode": {
    "name": "ipython",
    "version": 3
   },
   "file_extension": ".py",
   "mimetype": "text/x-python",
   "name": "python",
   "nbconvert_exporter": "python",
   "pygments_lexer": "ipython3",
   "version": "3.7.6"
  }
 },
 "nbformat": 4,
 "nbformat_minor": 4
}
