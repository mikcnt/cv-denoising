{
 "cells": [
  {
   "cell_type": "code",
   "execution_count": 10,
   "metadata": {
    "execution": {
     "iopub.execute_input": "2021-01-24T18:56:28.746067Z",
     "iopub.status.busy": "2021-01-24T18:56:28.745889Z",
     "iopub.status.idle": "2021-01-24T18:56:28.782895Z",
     "shell.execute_reply": "2021-01-24T18:56:28.782219Z",
     "shell.execute_reply.started": "2021-01-24T18:56:28.746045Z"
    }
   },
   "outputs": [],
   "source": [
    "import numpy as np\n",
    "import torch\n",
    "from torch import optim\n",
    "import os\n",
    "import matplotlib.pyplot as plt\n",
    "from utils import load_checkpoint\n",
    "\n",
    "from models import AutoEncoder\n",
    "\n",
    "MODEL_CHECKPOINT = '053.pth'\n",
    "model = AutoEncoder()\n",
    "optimizer = optim.Adam(model.parameters(), lr=0.0003)\n",
    "        \n",
    "model, optimizer, epoch, train_loss, test_loss = load_checkpoint(model, optimizer, MODEL_CHECKPOINT)"
   ]
  },
  {
   "cell_type": "code",
   "execution_count": 11,
   "metadata": {
    "execution": {
     "iopub.execute_input": "2021-01-24T18:56:28.861412Z",
     "iopub.status.busy": "2021-01-24T18:56:28.861157Z",
     "iopub.status.idle": "2021-01-24T18:56:28.864899Z",
     "shell.execute_reply": "2021-01-24T18:56:28.864345Z",
     "shell.execute_reply.started": "2021-01-24T18:56:28.861374Z"
    }
   },
   "outputs": [],
   "source": [
    "train_loss = np.array(list(train_loss.values()))\n",
    "test_loss = np.array(list(test_loss.values()))"
   ]
  },
  {
   "cell_type": "code",
   "execution_count": 12,
   "metadata": {
    "execution": {
     "iopub.execute_input": "2021-01-24T18:56:30.837632Z",
     "iopub.status.busy": "2021-01-24T18:56:30.836990Z",
     "iopub.status.idle": "2021-01-24T18:56:30.842921Z",
     "shell.execute_reply": "2021-01-24T18:56:30.842384Z",
     "shell.execute_reply.started": "2021-01-24T18:56:30.837550Z"
    }
   },
   "outputs": [],
   "source": [
    "train_normalized = train_loss / train_loss.max()\n",
    "test_normalized = test_loss / test_loss.max()"
   ]
  },
  {
   "cell_type": "code",
   "execution_count": 13,
   "metadata": {
    "execution": {
     "iopub.execute_input": "2021-01-24T18:56:32.053463Z",
     "iopub.status.busy": "2021-01-24T18:56:32.052827Z",
     "iopub.status.idle": "2021-01-24T18:56:32.150442Z",
     "shell.execute_reply": "2021-01-24T18:56:32.149920Z",
     "shell.execute_reply.started": "2021-01-24T18:56:32.053381Z"
    }
   },
   "outputs": [
    {
     "data": {
      "text/plain": [
       "[<matplotlib.lines.Line2D at 0x7f39411c3650>]"
      ]
     },
     "execution_count": 13,
     "metadata": {},
     "output_type": "execute_result"
    },
    {
     "data": {
      "image/png": "[encoded data removed]",
      "text/plain": [
       "<Figure size 432x288 with 1 Axes>"
      ]
     },
     "metadata": {
      "needs_background": "light"
     },
     "output_type": "display_data"
    }
   ],
   "source": [
    "plt.grid()\n",
    "plt.plot(train_normalized)\n",
    "plt.plot(test_normalized)"
   ]
  }
 ],
 "metadata": {
  "kernelspec": {
   "display_name": "Python 3",
   "language": "python",
   "name": "python3"
  },
  "language_info": {
   "codemirror_mode": {
    "name": "ipython",
    "version": 3
   },
   "file_extension": ".py",
   "mimetype": "text/x-python",
   "name": "python",
   "nbconvert_exporter": "python",
   "pygments_lexer": "ipython3",
   "version": "3.7.6"
  }
 },
 "nbformat": 4,
 "nbformat_minor": 4
}
