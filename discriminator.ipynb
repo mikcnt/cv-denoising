{
 "cells": [
  {
   "cell_type": "code",
   "execution_count": 1,
   "metadata": {},
   "outputs": [],
   "source": [
    "import torchvision.transforms as tf\n",
    "import torch.nn as nn\n",
    "import torch.nn.functional as F\n",
    "import dataset"
   ]
  },
  {
   "cell_type": "code",
   "execution_count": 4,
   "metadata": {},
   "outputs": [],
   "source": [
    "class Discriminator(nn.Module):\n",
    "    def __init__(self, k0, k1, k2, k3):\n",
    "        super(Discriminator, self).__init__()\n",
    "        self.k0 = k0\n",
    "        self.k1 = k1\n",
    "        self.k2 = k2\n",
    "        self.k3 = k3\n",
    "        \n",
    "        self.conv1 = self.conv_layer(3, 48, 4, stride = 2)\n",
    "        self.conv2 = self.conv_layer(48, 96, 4, stride = 2)\n",
    "        self.conv3 = self.conv_layer(96, 192, 4, stride = 2)\n",
    "        self.conv4 = self.conv_layer(129, 384, 4)\n",
    "        self.conv5 = self.conv_layer(384, 1, 4, activation = nn.Sigmoid())\n",
    "        \n",
    "    def forward(self, x):\n",
    "        x = self.conv1(x)\n",
    "        x = self.conv2(x)\n",
    "        x = self.conv3(x)\n",
    "        x = self.conv4(x)\n",
    "        x = self.conv5(x)\n",
    "        return x\n",
    "    \n",
    "    def conv_layer(self, in_ch, out_ch, kernel, activation = nn.LeakyReLU(), stride = 1):\n",
    "        return nn.Sequential(\n",
    "            nn.Conv2d(in_ch, out_ch, kernel, stride = stride),\n",
    "            nn.BatchNorm2d(5),\n",
    "            activation\n",
    "        )\n",
    "    \n",
    "    def res_block(self, channels, kernel):\n",
    "        return nn.Sequential(\n",
    "            self.conv_layer(channels, channels, kernel),\n",
    "            self.conv_layer(channels, channels, kernel)\n",
    "        )\n",
    "    \n",
    "    def deconv_layer(self, in_ch, out_ch, kernel, new_size = None, activation = nn.LeakyReLU()):\n",
    "        if new_size:\n",
    "            return nn.Sequential(\n",
    "                tf.Resize(new_size, interpolation=3),\n",
    "                self.conv_layer(in_ch, out_ch, kernel, activation)\n",
    "            )\n",
    "        return self.conv_layer(in_ch, out_ch, kernel, activation)\n",
    "    \n",
    "# Test\n",
    "gen = Discriminator(0,0,0,0)"
   ]
  },
  {
   "cell_type": "code",
   "execution_count": null,
   "metadata": {},
   "outputs": [],
   "source": []
  }
 ],
 "metadata": {
  "kernelspec": {
   "display_name": "Python 3",
   "language": "python",
   "name": "python3"
  },
  "language_info": {
   "codemirror_mode": {
    "name": "ipython",
    "version": 3
   },
   "file_extension": ".py",
   "mimetype": "text/x-python",
   "name": "python",
   "nbconvert_exporter": "python",
   "pygments_lexer": "ipython3",
   "version": "3.9.1"
  }
 },
 "nbformat": 4,
 "nbformat_minor": 4
}
