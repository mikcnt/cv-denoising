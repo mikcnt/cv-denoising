{
 "cells": [
  {
   "cell_type": "code",
   "execution_count": 1,
   "metadata": {},
   "outputs": [],
   "source": [
    "import torchvision.transforms as tf\n",
    "import torch.nn as nn\n",
    "import torch.nn.functional as F\n",
    "import dataset\n",
    "from utils.layer import conv_layer\n",
    "from utils.layer import res_block\n",
    "from utils.layer import deconv_layer"
   ]
  },
  {
   "cell_type": "code",
   "execution_count": 2,
   "metadata": {},
   "outputs": [],
   "source": [
    "class Generator(nn.Module):\n",
    "    def __init__(self, k0, k1, k2, k3, batch_size = 5):\n",
    "        super(Generator, self).__init__()\n",
    "        \n",
    "        self.k0 = k0\n",
    "        self.k1 = k1\n",
    "        self.k2 = k2\n",
    "        self.k3 = k3\n",
    "        \n",
    "        self.conv1 = conv_layer(3, 32, 9, batch_size = batch_size)\n",
    "        self.conv2 = conv_layer(32, 64, 3, batch_size = batch_size)\n",
    "        self.conv3 = conv_layer(64, 128, 3, batch_size = batch_size)\n",
    "        \n",
    "        self.res1 = res_block(128, 3, batch_size)\n",
    "        self.res2 = res_block(128, 3, batch_size)\n",
    "        self.res3 = res_block(128, 3, batch_size)\n",
    "        \n",
    "        self.deconv1 = deconv_layer(128, 64, 3, (128, 128), batch_size = batch_size)\n",
    "        self.deconv2 = deconv_layer(64, 32, 3, (256, 256), batch_size = batch_size)\n",
    "        self.deconv3 = deconv_layer(32, 3, 3, activation = nn.Tanh(), batch_size = batch_size)\n",
    "        \n",
    "    def forward(self, x):\n",
    "        x = self.conv1(x)\n",
    "        x = self.conv2(x)\n",
    "        x = self.conv3(x)\n",
    "        \n",
    "        x += self.res1(x)\n",
    "        x += self.res2(x)\n",
    "        x += self.res3(x)\n",
    "        \n",
    "        x = self.deconv1(x)\n",
    "        x = self.deconv2(x)\n",
    "        x = self.deconv3(x)\n",
    "        return x\n",
    "    \n",
    "    # k0 * Adversarial loss(GAN loss) +\n",
    "    # k1 * Pixel loss(MSE) +\n",
    "    # k2 * Feature loss(MSE for conv2???) +\n",
    "    # k3 * Smooth loss(SmoothLossL1??)\n",
    "    def loss(self, y, t):\n",
    "        pass\n",
    "    \n",
    "# Test\n",
    "gen = Generator(0,0,0,0)"
   ]
  },
  {
   "cell_type": "code",
   "execution_count": null,
   "metadata": {},
   "outputs": [],
   "source": []
  }
 ],
 "metadata": {
  "kernelspec": {
   "display_name": "Python 3",
   "language": "python",
   "name": "python3"
  },
  "language_info": {
   "codemirror_mode": {
    "name": "ipython",
    "version": 3
   },
   "file_extension": ".py",
   "mimetype": "text/x-python",
   "name": "python",
   "nbconvert_exporter": "python",
   "pygments_lexer": "ipython3",
   "version": "3.9.1"
  }
 },
 "nbformat": 4,
 "nbformat_minor": 4
}
