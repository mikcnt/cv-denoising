{
 "cells": [
  {
   "cell_type": "code",
   "execution_count": 25,
   "metadata": {},
   "outputs": [],
   "source": [
    "import cv2 as cv\n",
    "import random\n",
    "import os\n",
    "import math\n",
    "from tqdm import tqdm"
   ]
  },
  {
   "cell_type": "code",
   "execution_count": 26,
   "metadata": {},
   "outputs": [],
   "source": [
    "# This is the path of the folder that contains all the videos where to extract the training/test frames\n",
    "SOURCE = os.getenv(\"HOME\") + \"/shared\"\n",
    "# The folder where to store the frames.\n",
    "DESTINATION = os.getenv(\"HOME\") + \"/Projects/CV/img_denoise/data\"\n",
    "# Width for the output frames\n",
    "RES_W = 256\n",
    "# Height for the output frames\n",
    "RES_H = 144\n",
    "# The subfolder for training dataset\n",
    "TRAIN = \"train\"\n",
    "# The subfolder for tests dataset\n",
    "TEST =  \"test\"\n",
    "# Number of training data\n",
    "N_TRAIN=1000\n",
    "# Number of testing data\n",
    "N_TEST=40\n",
    "# File format\n",
    "EXT=\"png\""
   ]
  },
  {
   "cell_type": "code",
   "execution_count": null,
   "metadata": {},
   "outputs": [],
   "source": [
    "# Some preprocessing...\n",
    "TRAIN = DESTINATION + \"/\" + TRAIN\n",
    "TEST = DESTINATION +  \"/\" + TEST\n",
    "EXT= \".\" + EXT\n",
    "ASP_W = RES_W / math.gcd(RES_W, RES_H)\n",
    "ASP_H = RES_H / math.gcd(RES_W, RES_H)\n",
    "\n",
    "# Generation of the destination folders if they don't already exists\n",
    "os.makedirs(TRAIN, exist_ok = True)\n",
    "os.makedirs(TEST, exist_ok = True)"
   ]
  },
  {
   "cell_type": "code",
   "execution_count": 28,
   "metadata": {},
   "outputs": [],
   "source": [
    "# video : The video file where to extract the frame\n",
    "# position [0, 1]: Position of the frame in the video, where 0 is the beginning and 1 is the end\n",
    "def extract_frame(video, position : float):\n",
    "    \n",
    "    # Validation for the position\n",
    "    if position < 0 or position > 1:\n",
    "        print(\"The position must between 0 and 1!\")\n",
    "        return\n",
    "    \n",
    "    frames = int(video.get(cv.CAP_PROP_FRAME_COUNT))\n",
    "    curr_frame = int(position * frames)\n",
    "    \n",
    "    if not video.set(cv.CAP_PROP_POS_FRAMES, curr_frame):\n",
    "        print(\"Cannot get to the frame!\")\n",
    "        return\n",
    "    \n",
    "    ret, img = video.read()\n",
    "    # Computing the aspect ratio of the image.\n",
    "    (h, w) = img.shape[:2]\n",
    "    asp_w = w / math.gcd(w, h)\n",
    "    asp_h = h / math.gcd(w, h)\n",
    "    \n",
    "    # Crop the image if the aspect ratio don't match\n",
    "    # Ex: image 4:3 asp, while the final image must be 16:9\n",
    "    if not (asp_h == ASP_H and asp_w == ASP_W):\n",
    "        offset = int((h - RES_H) // 2)\n",
    "        new_h = int((w * ASP_H) // ASP_W)\n",
    "        img = img[offset:offset + new_h, :]\n",
    "    img = cv.resize(img, dsize = (RES_W, RES_H), interpolation = cv.INTER_AREA)\n",
    "    return img\n",
    "    \n",
    "    "
   ]
  },
  {
   "cell_type": "code",
   "execution_count": 29,
   "metadata": {},
   "outputs": [
    {
     "name": "stderr",
     "output_type": "stream",
     "text": [
      "100%|██████████| 20/20 [01:32<00:00,  4.63s/it]\n"
     ]
    }
   ],
   "source": [
    "n_train = N_TRAIN // len(os.listdir(SOURCE))\n",
    "n_test = N_TEST // len(os.listdir(SOURCE))\n",
    "\n",
    "j = 0\n",
    "for video_file in tqdm(os.listdir(SOURCE)):\n",
    "    video = cv.VideoCapture(SOURCE + \"/\" + video_file)\n",
    "    \n",
    "    if not video.isOpened():\n",
    "        print(\"Oh Noo! The file cannot be opened : \" + video_file)\n",
    "        continue\n",
    "    \n",
    "    for i in range(n_train):\n",
    "        # Avoiding the initial logos and the credit scene\n",
    "        rand = random.uniform(0.2, 0.8)\n",
    "        r_frame = extract_frame(video, rand)\n",
    "        cv.imwrite(TRAIN + \"/\" + str(j * n_train + i) + EXT, r_frame)\n",
    "        \n",
    "    for i in range(n_test):\n",
    "        rand = random.uniform(0.2, 0.8)\n",
    "        r_frame = extract_frame(video, rand)\n",
    "        cv.imwrite(TEST + \"/\" + str(j * n_test + i) + EXT, r_frame)\n",
    "    \n",
    "    j += 1\n",
    "        \n",
    "    "
   ]
  },
  {
   "cell_type": "code",
   "execution_count": null,
   "metadata": {},
   "outputs": [],
   "source": []
  }
 ],
 "metadata": {
  "kernelspec": {
   "display_name": "Python 3",
   "language": "python",
   "name": "python3"
  },
  "language_info": {
   "codemirror_mode": {
    "name": "ipython",
    "version": 3
   },
   "file_extension": ".py",
   "mimetype": "text/x-python",
   "name": "python",
   "nbconvert_exporter": "python",
   "pygments_lexer": "ipython3",
   "version": "3.9.1"
  }
 },
 "nbformat": 4,
 "nbformat_minor": 4
}
